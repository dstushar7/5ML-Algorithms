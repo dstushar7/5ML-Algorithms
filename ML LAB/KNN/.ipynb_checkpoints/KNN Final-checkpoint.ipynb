{
 "cells": [
  {
   "cell_type": "code",
   "execution_count": 1,
   "metadata": {},
   "outputs": [],
   "source": [
    "import numpy as np\n",
    "import pandas as pd\n",
    "import matplotlib.pyplot as plt\n",
    "%matplotlib inline"
   ]
  },
  {
   "cell_type": "code",
   "execution_count": 2,
   "metadata": {},
   "outputs": [],
   "source": [
    "df = pd.read_csv('iris.csv')"
   ]
  },
  {
   "cell_type": "code",
   "execution_count": 3,
   "metadata": {},
   "outputs": [],
   "source": [
    "def dummyEncode(df):\n",
    "    column = list(df.select_dtypes(include=['category','object']))\n",
    "    for x in column:\n",
    "        dummies = pd.get_dummies(df[x],prefix = x,dummy_na = False)\n",
    "        df = df.drop(x,1)\n",
    "        df = pd.concat([df,dummies],axis=1)\n",
    "    return df"
   ]
  },
  {
   "cell_type": "code",
   "execution_count": 4,
   "metadata": {},
   "outputs": [],
   "source": [
    "codes = {'Iris-setosa':0, 'Iris-versicolor':1, 'Iris-virginica':2}\n",
    "df['Species'] = df['Species'].map(codes)"
   ]
  },
  {
   "cell_type": "code",
   "execution_count": 5,
   "metadata": {},
   "outputs": [],
   "source": [
    "Xdata = np.array(df.drop(['Species','Id'],axis = 1))\n",
    "Ydata = np.array(df['Species'])"
   ]
  },
  {
   "cell_type": "code",
   "execution_count": 6,
   "metadata": {},
   "outputs": [],
   "source": [
    "from sklearn.model_selection import train_test_split\n",
    "x,xt,y,yt = train_test_split(Xdata,Ydata,random_state = 41,train_size=.90)"
   ]
  },
  {
   "cell_type": "code",
   "execution_count": 7,
   "metadata": {},
   "outputs": [],
   "source": [
    "def predict(test,k=20):\n",
    "    dist = np.linalg.norm(x-test,axis = 1)\n",
    "    sorted_dist = np.argsort(dist)\n",
    "    K_neighbours = sorted_dist[:k]\n",
    "    Class = np.amax(y[K_neighbours])\n",
    "    \n",
    "    z = [key for key, value in codes.items() if value == Class][0]\n",
    "    \n",
    "    return z,Class"
   ]
  },
  {
   "cell_type": "code",
   "execution_count": 8,
   "metadata": {},
   "outputs": [
    {
     "name": "stdout",
     "output_type": "stream",
     "text": [
      "Iris-virginica 2 2\n",
      "Iris-virginica 2 2\n",
      "Iris-virginica 2 2\n",
      "Iris-virginica 2 1\n",
      "Iris-virginica 2 2\n",
      "Iris-versicolor 1 1\n",
      "Iris-virginica 2 2\n",
      "Iris-virginica 2 1\n",
      "Iris-virginica 2 2\n",
      "Iris-virginica 2 2\n",
      "Iris-virginica 2 2\n",
      "Iris-setosa 0 0\n",
      "Iris-setosa 0 0\n",
      "Iris-versicolor 1 1\n",
      "Iris-setosa 0 0\n"
     ]
    }
   ],
   "source": [
    "j=0\n",
    "for i in range(len(xt)):\n",
    "    p,c = predict(xt[i])\n",
    "    print(p,c, yt[i])\n",
    "    if(yt[i]==c): j = j+1\n",
    "    "
   ]
  },
  {
   "cell_type": "code",
   "execution_count": 9,
   "metadata": {},
   "outputs": [
    {
     "name": "stdout",
     "output_type": "stream",
     "text": [
      "accuracy :  0.8666666666666667\n"
     ]
    }
   ],
   "source": [
    "print('accuracy : ',j/len(xt))"
   ]
  }
 ],
 "metadata": {
  "kernelspec": {
   "display_name": "Python 3",
   "language": "python",
   "name": "python3"
  },
  "language_info": {
   "codemirror_mode": {
    "name": "ipython",
    "version": 3
   },
   "file_extension": ".py",
   "mimetype": "text/x-python",
   "name": "python",
   "nbconvert_exporter": "python",
   "pygments_lexer": "ipython3",
   "version": "3.7.3"
  }
 },
 "nbformat": 4,
 "nbformat_minor": 2
}
