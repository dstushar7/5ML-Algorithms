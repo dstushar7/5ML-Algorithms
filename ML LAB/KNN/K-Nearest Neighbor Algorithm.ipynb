{
 "cells": [
  {
   "cell_type": "code",
   "execution_count": 98,
   "metadata": {},
   "outputs": [],
   "source": [
    "import csv\n",
    "with open('iris1.csv', 'r') as fd:\n",
    "    reader = csv.reader(fd)\n",
    "#     for row in reader:\n",
    "#         print(\", \".join(row))#Printing comma sepearatedly"
   ]
  },
  {
   "cell_type": "markdown",
   "metadata": {},
   "source": [
    "#Reading the CSV dataset and joining it with comma. [The ipynb file and the dataset must be inside the same folder, or else change the directory]"
   ]
  },
  {
   "cell_type": "raw",
   "metadata": {},
   "source": [
    "# As we read the dataset, now we need to split the data into two parts, Test data and train data. Train data will be used to train our KNN Classifier, and the test data will be used to Test the trained model and find the accuracy"
   ]
  },
  {
   "cell_type": "code",
   "execution_count": 100,
   "metadata": {},
   "outputs": [],
   "source": [
    "import random\n",
    "def loadDataset(filename, split, trainingSet=[] , testSet=[]):#A fuction to load dataset and split\n",
    "    with open(filename, 'r') as csvfile:\n",
    "        lines = csv.reader(csvfile)#reading data set\n",
    "        dataset = list(lines)#Converting all data into list\n",
    "        for x in range(len(dataset)-1):#looping 1 to all\n",
    "            for y in range(4):#looping for number of columns\n",
    "                dataset[x][y] = float(dataset[x][y])\n",
    "            if random.random() < split:#generating random numbers and comparing with split ratio\n",
    "                trainingSet.append(dataset[x])#adding on training set\n",
    "            else:\n",
    "                testSet.append(dataset[x])#adding on test set"
   ]
  },
  {
   "cell_type": "markdown",
   "metadata": {},
   "source": [
    "#The parameters of loadDataset function are filename, split percentage(ex:0.66,0,50). Usually the spliting percentage is 67/33. The others are two empty sets"
   ]
  },
  {
   "cell_type": "code",
   "execution_count": 101,
   "metadata": {},
   "outputs": [
    {
     "name": "stdout",
     "output_type": "stream",
     "text": [
      "Train: 101\n",
      "Test: 48\n"
     ]
    }
   ],
   "source": [
    "#To check how the data was split.\n",
    "trainingSet=[]\n",
    "testSet=[]\n",
    "loadDataset('iris1.csv', 0.67, trainingSet, testSet)\n",
    "print('Train: ' + str(len(trainingSet)))\n",
    "print('Test: ' + str(len(testSet)))"
   ]
  },
  {
   "cell_type": "markdown",
   "metadata": {},
   "source": [
    "For training data with KNN classifier, we need to measure the euclidean distance of k(the number will be set by user) close values."
   ]
  },
  {
   "cell_type": "code",
   "execution_count": 102,
   "metadata": {},
   "outputs": [],
   "source": [
    "#euclidean distance measure\n",
    "import math\n",
    "def euclideanDistance(instance1, instance2, length):\n",
    "    distance = 0\n",
    "    for x in range(length):\n",
    "        distance += pow((instance1[x] - instance2[x]), 2)\n",
    "    return math.sqrt(distance)"
   ]
  },
  {
   "cell_type": "markdown",
   "metadata": {},
   "source": [
    "Measuring euclidean distance is Grade 12 mathematics from Straight Lines. The distance between two point in a graph paper is measured by Euclidean method. You can ask your student to know. You can know more about it https://en.wikipedia.org/wiki/Euclidean_distance"
   ]
  },
  {
   "cell_type": "code",
   "execution_count": 103,
   "metadata": {},
   "outputs": [
    {
     "name": "stdout",
     "output_type": "stream",
     "text": [
      "Distance: 3.4641016151377544\n"
     ]
    }
   ],
   "source": [
    "#Testing our euclidean distance function\n",
    "data1 = [2, 2, 2, 'a']\n",
    "data2 = [4, 4, 4, 'b']\n",
    "distance = euclideanDistance(data1, data2, 3)\n",
    "print ('Distance: ' + str(distance))"
   ]
  },
  {
   "cell_type": "code",
   "execution_count": 104,
   "metadata": {},
   "outputs": [],
   "source": [
    "#Neighbour\n",
    "import operator \n",
    "def getNeighbors(trainingSet, testInstance, k):\n",
    "    distances = []\n",
    "    length = len(testInstance)-1\n",
    "    for x in range(len(trainingSet)):\n",
    "        dist = euclideanDistance(testInstance, trainingSet[x], length)\n",
    "        distances.append((trainingSet[x], dist))\n",
    "    distances.sort(key=operator.itemgetter(1))\n",
    "    neighbors = []\n",
    "    for x in range(k):\n",
    "        neighbors.append(distances[x][0])\n",
    "    return neighbors"
   ]
  },
  {
   "cell_type": "code",
   "execution_count": 109,
   "metadata": {},
   "outputs": [
    {
     "name": "stdout",
     "output_type": "stream",
     "text": [
      "[[4, 4, 4, 'b'], [3, 3, 3, 'a']]\n"
     ]
    }
   ],
   "source": [
    "#Test the getNeighbors function\n",
    "trainSet = [[2, 2, 2, 'a'], [3,3,3,'a'],[4, 4, 4, 'b']]\n",
    "testInstance = [5, 5, 5]\n",
    "k = 2\n",
    "neighbors = getNeighbors(trainSet, testInstance, k)\n",
    "print(neighbors)"
   ]
  },
  {
   "cell_type": "code",
   "execution_count": 110,
   "metadata": {},
   "outputs": [],
   "source": [
    "#Summarize a prediction from neighbours\n",
    "import operator\n",
    "def getResponse(neighbors):\n",
    "    classVotes = {}\n",
    "    for x in range(len(neighbors)):\n",
    "        response = neighbors[x][-1]\n",
    "        if response in classVotes:\n",
    "            classVotes[response] += 1\n",
    "        else:\n",
    "            classVotes[response] = 1\n",
    "    sortedVotes = sorted(classVotes.items(), key=operator.itemgetter(1), reverse=True)\n",
    "    return sortedVotes[0][0]"
   ]
  },
  {
   "cell_type": "code",
   "execution_count": 114,
   "metadata": {},
   "outputs": [
    {
     "name": "stdout",
     "output_type": "stream",
     "text": [
      "b\n"
     ]
    }
   ],
   "source": [
    "#Test the getResponse function\n",
    "neighbors = [[1,1,1,'b'], [3,3,3,'a']]\n",
    "response = getResponse(neighbors)\n",
    "print(response)"
   ]
  },
  {
   "cell_type": "code",
   "execution_count": 115,
   "metadata": {},
   "outputs": [],
   "source": [
    "#Getting the accuracy of our algorithm\n",
    "def getAccuracy(testSet, predictions):\n",
    "    correct = 0\n",
    "    for x in range(len(testSet)):\n",
    "        if testSet[x][-1] is predictions[x]:\n",
    "            correct += 1\n",
    "    return (correct/float(len(testSet))) * 100.0"
   ]
  },
  {
   "cell_type": "code",
   "execution_count": 116,
   "metadata": {},
   "outputs": [
    {
     "name": "stdout",
     "output_type": "stream",
     "text": [
      "66.66666666666666\n"
     ]
    }
   ],
   "source": [
    "#test accuracy function\n",
    "testSet = [[1,1,1,'a'], [2,2,2,'a'], [3,3,3,'b']]\n",
    "predictions = ['a', 'a', 'a']\n",
    "accuracy = getAccuracy(testSet, predictions)\n",
    "print(accuracy)"
   ]
  },
  {
   "cell_type": "code",
   "execution_count": 121,
   "metadata": {},
   "outputs": [
    {
     "name": "stdout",
     "output_type": "stream",
     "text": [
      "Train set: 98\n",
      "Test set: 51\n",
      "> predicted=Iris-setosa, actual=Iris-setosa\n",
      "> predicted=Iris-setosa, actual=Iris-setosa\n",
      "> predicted=Iris-setosa, actual=Iris-setosa\n",
      "> predicted=Iris-setosa, actual=Iris-setosa\n",
      "> predicted=Iris-setosa, actual=Iris-setosa\n",
      "> predicted=Iris-setosa, actual=Iris-setosa\n",
      "> predicted=Iris-setosa, actual=Iris-setosa\n",
      "> predicted=Iris-setosa, actual=Iris-setosa\n",
      "> predicted=Iris-setosa, actual=Iris-setosa\n",
      "> predicted=Iris-setosa, actual=Iris-setosa\n",
      "> predicted=Iris-setosa, actual=Iris-setosa\n",
      "> predicted=Iris-setosa, actual=Iris-setosa\n",
      "> predicted=Iris-setosa, actual=Iris-setosa\n",
      "> predicted=Iris-setosa, actual=Iris-setosa\n",
      "> predicted=Iris-setosa, actual=Iris-setosa\n",
      "> predicted=Iris-setosa, actual=Iris-setosa\n",
      "> predicted=Iris-setosa, actual=Iris-setosa\n",
      "> predicted=Iris-setosa, actual=Iris-setosa\n",
      "> predicted=Iris-versicolor, actual=Iris-versicolor\n",
      "> predicted=Iris-versicolor, actual=Iris-versicolor\n",
      "> predicted=Iris-versicolor, actual=Iris-versicolor\n",
      "> predicted=Iris-versicolor, actual=Iris-versicolor\n",
      "> predicted=Iris-versicolor, actual=Iris-versicolor\n",
      "> predicted=Iris-versicolor, actual=Iris-versicolor\n",
      "> predicted=Iris-virginica, actual=Iris-versicolor\n",
      "> predicted=Iris-versicolor, actual=Iris-versicolor\n",
      "> predicted=Iris-virginica, actual=Iris-versicolor\n",
      "> predicted=Iris-versicolor, actual=Iris-versicolor\n",
      "> predicted=Iris-virginica, actual=Iris-versicolor\n",
      "> predicted=Iris-versicolor, actual=Iris-versicolor\n",
      "> predicted=Iris-versicolor, actual=Iris-versicolor\n",
      "> predicted=Iris-versicolor, actual=Iris-versicolor\n",
      "> predicted=Iris-versicolor, actual=Iris-versicolor\n",
      "> predicted=Iris-versicolor, actual=Iris-versicolor\n",
      "> predicted=Iris-versicolor, actual=Iris-virginica\n",
      "> predicted=Iris-virginica, actual=Iris-virginica\n",
      "> predicted=Iris-virginica, actual=Iris-virginica\n",
      "> predicted=Iris-virginica, actual=Iris-virginica\n",
      "> predicted=Iris-virginica, actual=Iris-virginica\n",
      "> predicted=Iris-virginica, actual=Iris-virginica\n",
      "> predicted=Iris-virginica, actual=Iris-virginica\n",
      "> predicted=Iris-virginica, actual=Iris-virginica\n",
      "> predicted=Iris-virginica, actual=Iris-virginica\n",
      "> predicted=Iris-virginica, actual=Iris-virginica\n",
      "> predicted=Iris-virginica, actual=Iris-virginica\n",
      "> predicted=Iris-virginica, actual=Iris-virginica\n",
      "> predicted=Iris-virginica, actual=Iris-virginica\n",
      "> predicted=Iris-virginica, actual=Iris-virginica\n",
      "> predicted=Iris-virginica, actual=Iris-virginica\n",
      "> predicted=Iris-virginica, actual=Iris-virginica\n",
      "> predicted=Iris-virginica, actual=Iris-virginica\n",
      "Accuracy: 92.15686274509804%\n"
     ]
    }
   ],
   "source": [
    "#Main Fuction with every fuction included\n",
    "import csv\n",
    "import random\n",
    "import math\n",
    "import operator\n",
    " \n",
    "def loadDataset(filename, split, trainingSet=[] , testSet=[]):\n",
    "    with open(filename, 'r') as csvfile:\n",
    "        lines = csv.reader(csvfile)\n",
    "        dataset = list(lines)\n",
    "        for x in range(len(dataset)-1):\n",
    "            for y in range(4):\n",
    "                   dataset[x][y] = float(dataset[x][y])\n",
    "            if random.random() < split:\n",
    "                trainingSet.append(dataset[x])\n",
    "            else:\n",
    "                testSet.append(dataset[x])\n",
    " \n",
    " \n",
    "def euclideanDistance(instance1, instance2, length):\n",
    "    distance = 0\n",
    "    for x in range(length):\n",
    "        distance += pow((instance1[x] - instance2[x]), 2)\n",
    "    return math.sqrt(distance)\n",
    " \n",
    "def getNeighbors(trainingSet, testInstance, k):\n",
    "    distances = []\n",
    "    length = len(testInstance)-1\n",
    "    for x in range(len(trainingSet)):\n",
    "        dist = euclideanDistance(testInstance, trainingSet[x], length)\n",
    "        distances.append((trainingSet[x], dist))\n",
    "    distances.sort(key=operator.itemgetter(1))\n",
    "    neighbors = []\n",
    "    for x in range(k):\n",
    "        neighbors.append(distances[x][0])\n",
    "    return neighbors\n",
    " \n",
    "def getResponse(neighbors):\n",
    "    classVotes = {}\n",
    "    for x in range(len(neighbors)):\n",
    "        response = neighbors[x][-1]\n",
    "        if response in classVotes:\n",
    "            classVotes[response] += 1\n",
    "        else:\n",
    "            classVotes[response] = 1\n",
    "    sortedVotes = sorted(classVotes.items(), key=operator.itemgetter(1), reverse=True)\n",
    "    return sortedVotes[0][0]\n",
    " \n",
    "def getAccuracy(testSet, predictions):\n",
    "    correct = 0\n",
    "    for x in range(len(testSet)):\n",
    "        if testSet[x][-1] == predictions[x]:\n",
    "            correct += 1\n",
    "    return (correct/float(len(testSet))) * 100.0\n",
    "    \n",
    "def main():\n",
    "    # prepare data\n",
    "    trainingSet=[]\n",
    "    testSet=[]\n",
    "    split = 0.67\n",
    "    loadDataset('iris1.csv',split, trainingSet, testSet)\n",
    "    print('Train set: ' + str(len(trainingSet)))\n",
    "    print('Test set: ' + str(len(testSet)))\n",
    "    # generate predictions\n",
    "    predictions=[]\n",
    "    k = 5\n",
    "    for x in range(len(testSet)):\n",
    "        neighbors = getNeighbors(trainingSet, testSet[x], k)\n",
    "        result = getResponse(neighbors)\n",
    "        predictions.append(result)\n",
    "        print('> predicted=' + str(result) + ', actual=' + str(testSet[x][-1]))\n",
    "    accuracy = getAccuracy(testSet, predictions)\n",
    "    print('Accuracy: '+str(accuracy) +'%')\n",
    "    \n",
    "main()"
   ]
  }
 ],
 "metadata": {
  "kernelspec": {
   "display_name": "Python 3",
   "language": "python",
   "name": "python3"
  },
  "language_info": {
   "codemirror_mode": {
    "name": "ipython",
    "version": 3
   },
   "file_extension": ".py",
   "mimetype": "text/x-python",
   "name": "python",
   "nbconvert_exporter": "python",
   "pygments_lexer": "ipython3",
   "version": "3.7.3"
  }
 },
 "nbformat": 4,
 "nbformat_minor": 2
}
